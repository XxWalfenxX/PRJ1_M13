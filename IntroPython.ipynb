{
  "nbformat": 4,
  "nbformat_minor": 0,
  "metadata": {
    "colab": {
      "provenance": [],
      "collapsed_sections": [],
      "include_colab_link": true
    },
    "kernelspec": {
      "name": "python3",
      "display_name": "Python 3"
    },
    "language_info": {
      "name": "python"
    }
  },
  "cells": [
    {
      "cell_type": "markdown",
      "metadata": {
        "id": "view-in-github",
        "colab_type": "text"
      },
      "source": [
        "<a href=\"https://colab.research.google.com/github/XxWalfenxX/PRJ1_M13/blob/release/IntroPython.ipynb\" target=\"_parent\"><img src=\"https://colab.research.google.com/assets/colab-badge.svg\" alt=\"Open In Colab\"/></a>"
      ]
    },
    {
      "cell_type": "markdown",
      "source": [
        "Ejercicio 1\n"
      ],
      "metadata": {
        "id": "Esbrq_UztyR7"
      }
    },
    {
      "cell_type": "code",
      "execution_count": null,
      "metadata": {
        "id": "H4rbuRVWon0V",
        "colab": {
          "base_uri": "https://localhost:8080/"
        },
        "outputId": "8e671f68-24f5-409f-a341-7c60dd18bf38"
      },
      "outputs": [
        {
          "output_type": "stream",
          "name": "stdout",
          "text": [
            "30\n"
          ]
        }
      ],
      "source": [
        "Prod = 10\n",
        "sum = Prod + 20\n",
        "mult = Prod * 5449\n",
        "\n",
        "if mult <= 1000:\n",
        "  print(mult)\n",
        "else:\n",
        "  print(sum)"
      ]
    },
    {
      "cell_type": "markdown",
      "source": [
        "Ejercicio 2"
      ],
      "metadata": {
        "id": "5Pxwo6_Mpvcj"
      }
    },
    {
      "cell_type": "code",
      "source": [
        "cont = 1\n",
        "while cont <= 15:\n",
        "  print(cont)\n",
        "  cont += 1\n"
      ],
      "metadata": {
        "id": "XUlNVpaPpyey",
        "colab": {
          "base_uri": "https://localhost:8080/"
        },
        "outputId": "d4775e36-8089-45be-f409-43ba819eed23"
      },
      "execution_count": null,
      "outputs": [
        {
          "output_type": "stream",
          "name": "stdout",
          "text": [
            "1\n",
            "2\n",
            "3\n",
            "4\n",
            "5\n",
            "6\n",
            "7\n",
            "8\n",
            "9\n",
            "10\n",
            "11\n",
            "12\n",
            "13\n",
            "14\n",
            "15\n"
          ]
        }
      ]
    },
    {
      "cell_type": "markdown",
      "source": [
        "Ejercicio 3"
      ],
      "metadata": {
        "id": "bx4LBcq-x2jz"
      }
    },
    {
      "cell_type": "code",
      "source": [
        "for x in range(15):\n",
        "  print(x+1)"
      ],
      "metadata": {
        "colab": {
          "base_uri": "https://localhost:8080/"
        },
        "id": "SXXOVgl8x0W7",
        "outputId": "897c259d-0238-48df-906c-a20569dc4049"
      },
      "execution_count": null,
      "outputs": [
        {
          "output_type": "stream",
          "name": "stdout",
          "text": [
            "1\n",
            "2\n",
            "3\n",
            "4\n",
            "5\n",
            "6\n",
            "7\n",
            "8\n",
            "9\n",
            "10\n",
            "11\n",
            "12\n",
            "13\n",
            "14\n",
            "15\n"
          ]
        }
      ]
    },
    {
      "cell_type": "markdown",
      "source": [
        "Ejercicio 4"
      ],
      "metadata": {
        "id": "fQgwsKloDbYy"
      }
    },
    {
      "cell_type": "code",
      "source": [
        "x = input(\"Introduce un numero:\")\n",
        "\n",
        "if x != \"\":\n",
        "  x = int(x)\n",
        "  print(x*(x+1)/2)"
      ],
      "metadata": {
        "colab": {
          "base_uri": "https://localhost:8080/"
        },
        "id": "7QL-zdzfDeBR",
        "outputId": "84eefdec-3995-498d-df45-8b68505a55ee"
      },
      "execution_count": null,
      "outputs": [
        {
          "output_type": "stream",
          "name": "stdout",
          "text": [
            "Introduce un numero:10\n",
            "55.0\n"
          ]
        }
      ]
    },
    {
      "cell_type": "markdown",
      "source": [
        "Ejercicio 5"
      ],
      "metadata": {
        "id": "be352GK_G3VD"
      }
    },
    {
      "cell_type": "code",
      "source": [
        "x = input(\"Introduce un numero:\")\n",
        "\n",
        "if x != \"\":\n",
        "  x = int(x)\n",
        "  for i in range(1,11):\n",
        "    print((i*x))"
      ],
      "metadata": {
        "id": "8yXJcToyG4mj",
        "colab": {
          "base_uri": "https://localhost:8080/"
        },
        "outputId": "e3323810-f925-44c9-fe03-2ff0cfc9f89f"
      },
      "execution_count": null,
      "outputs": [
        {
          "output_type": "stream",
          "name": "stdout",
          "text": [
            "Introduce un numero:5\n",
            "5\n",
            "10\n",
            "15\n",
            "20\n",
            "25\n",
            "30\n",
            "35\n",
            "40\n",
            "45\n",
            "50\n"
          ]
        }
      ]
    },
    {
      "cell_type": "markdown",
      "source": [
        "Ejercicio 6"
      ],
      "metadata": {
        "id": "_BuDmnDdMEew"
      }
    },
    {
      "cell_type": "code",
      "source": [
        "list = [20, 60, 80, 100]\n",
        "\n",
        "for x in reversed(list):\n",
        "  print(x)"
      ],
      "metadata": {
        "colab": {
          "base_uri": "https://localhost:8080/"
        },
        "id": "NxqYSA_AMI8P",
        "outputId": "3957df0e-e22b-468c-ccee-7ac29e36a86c"
      },
      "execution_count": null,
      "outputs": [
        {
          "output_type": "stream",
          "name": "stdout",
          "text": [
            "100\n",
            "80\n",
            "60\n",
            "20\n"
          ]
        }
      ]
    },
    {
      "cell_type": "markdown",
      "source": [
        "Ejercicio 7"
      ],
      "metadata": {
        "id": "K0PGlBXKNpkn"
      }
    },
    {
      "cell_type": "code",
      "source": [
        "numeros = [16, 4, 9, 1, 3, 20, 8, 100, 43, 54 ,54]\n",
        "ordenados = sorted(numeros)\n",
        "ordenados[len(ordenados)-1]"
      ],
      "metadata": {
        "colab": {
          "base_uri": "https://localhost:8080/"
        },
        "id": "ddxgSO9ONskH",
        "outputId": "607d2e1c-3191-4041-ef26-6c38aca4114d"
      },
      "execution_count": null,
      "outputs": [
        {
          "output_type": "execute_result",
          "data": {
            "text/plain": [
              "100"
            ]
          },
          "metadata": {},
          "execution_count": 48
        }
      ]
    },
    {
      "cell_type": "markdown",
      "source": [
        "Ejercicio 8"
      ],
      "metadata": {
        "id": "uMAcqio_PYo-"
      }
    },
    {
      "cell_type": "code",
      "source": [
        "print(len('&#Pr@j3ctE#D4M#&'))"
      ],
      "metadata": {
        "id": "eObkE7osPaX-",
        "colab": {
          "base_uri": "https://localhost:8080/"
        },
        "outputId": "8f394a37-ab7f-456d-c261-4f07c62bad1c"
      },
      "execution_count": null,
      "outputs": [
        {
          "output_type": "stream",
          "name": "stdout",
          "text": [
            "16\n"
          ]
        }
      ]
    }
  ]
}